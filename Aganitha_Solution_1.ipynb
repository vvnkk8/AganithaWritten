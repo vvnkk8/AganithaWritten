{
  "nbformat": 4,
  "nbformat_minor": 0,
  "metadata": {
    "colab": {
      "name": "Aganitha Solution 1",
      "provenance": []
    },
    "kernelspec": {
      "name": "python3",
      "display_name": "Python 3"
    }
  },
  "cells": [
    {
      "cell_type": "markdown",
      "metadata": {
        "id": "ntex9nSLXfSf"
      },
      "source": [
        "Creating a mapping of words and their corresponding values that will in given as output"
      ]
    },
    {
      "cell_type": "code",
      "metadata": {
        "id": "A0Ir8WjPS72V"
      },
      "source": [
        "setOfWords = {\n",
        "    \"single\":1,\n",
        "    \"double\":2,\n",
        "    \"triple\":3,\n",
        "    \"quadruple\":4\n",
        "}\n",
        "numberMap = {\n",
        "    \"one\" : 1,\n",
        "    \"two\" : 2,\n",
        "    \"three\": 3,\n",
        "    \"four\": 4,\n",
        "    \"five\": 5,\n",
        "    \"six\": 6,\n",
        "    \"seven\": 7,\n",
        "    \"eight\": 8,\n",
        "    \"nine\": 9,\n",
        "    \"ten\": 10\n",
        "}\n",
        "symbols = {\n",
        "    \"dollar\" : \"$\",\n",
        "    \"dollars\" : \"$\",\n",
        "    \"rupee\" : \"₹\",\n",
        "    \"rupees\" : \"₹\"\n",
        "}\n",
        "abbreviations = {\n",
        "    \"c m\" : \"CM\",\n",
        "    \"p m\" : \"PM\",\n",
        "    \"a m\" : \"AM\"\n",
        "}"
      ],
      "execution_count": 27,
      "outputs": []
    },
    {
      "cell_type": "markdown",
      "metadata": {
        "id": "7-KH0UqVYrIn"
      },
      "source": [
        "# Convert the text after *tokenizing*"
      ]
    },
    {
      "cell_type": "code",
      "metadata": {
        "id": "bL6IO3ILcO--",
        "outputId": "899a2392-e911-4102-e9c7-45b5a42365a3",
        "colab": {
          "base_uri": "https://localhost:8080/"
        }
      },
      "source": [
        "line = input(\"Enter the sentence to convert \")"
      ],
      "execution_count": 45,
      "outputs": [
        {
          "output_type": "stream",
          "text": [
            "Enter the sentence to convert One of the C M aids have a triple R home worth 100 Rupees\n"
          ],
          "name": "stdout"
        }
      ]
    },
    {
      "cell_type": "code",
      "metadata": {
        "id": "oJxkFp12YqVn",
        "outputId": "01b7f582-b355-48b1-ac29-eeb476145b90",
        "colab": {
          "base_uri": "https://localhost:8080/"
        }
      },
      "source": [
        "\n",
        "# Create tokens\n",
        "words = line.lower().split(\" \")\n",
        "for i, word in enumerate(words):\n",
        "  # Checking for abbreviations\n",
        "  \n",
        "  if len(word) == 1 and i != len(words) - 1 and len(words[i + 1]) == 1:\n",
        "    words[i] = (words[i] + words[i + 1]).upper() # Takes care of abbriviations\n",
        "    words.remove(words[i + 1])\n",
        "  \n",
        "  if word in numberMap.keys():\n",
        "    words[i] = str(numberMap[word])\n",
        "  if word in symbols.keys():\n",
        "    words[i] = symbols[word]\n",
        "    if (i != 0):\n",
        "      words[i] = words[i] + words[i-1]\n",
        "      words.remove(words[i - 1])\n",
        "  if word in setOfWords.keys() and i != len(words) - 1:\n",
        "    words[i] = (words[i+1] * setOfWords[word]).upper()\n",
        "    words.remove(words[i + 1])    \n",
        "\n",
        "words[0] = words[0].capitalize()\n",
        "\n",
        "print(\" \".join(words))"
      ],
      "execution_count": 46,
      "outputs": [
        {
          "output_type": "stream",
          "text": [
            "1 of the CM aids have a RRR home worth ₹100\n"
          ],
          "name": "stdout"
        }
      ]
    }
  ]
}